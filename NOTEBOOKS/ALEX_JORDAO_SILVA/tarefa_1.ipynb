{
 "cells": [
  {
   "cell_type": "code",
   "execution_count": null,
   "id": "import-numpy",
   "metadata": {},
   "outputs": [],
   "source": [
    "import numpy as np # type: ignore\n",
    "\n",
    "valores = [4, 6, 3, 4, 5, 8, 4, 2]\n",
    "\n",
    "valor_maximo = np.max(valores)\n",
    "valor_minimo = np.min(valores)\n",
    "media = np.mean(valores)\n",
    "mediana = np.median(valores)\n",
    "desvio_padrao = np.std(valores)\n",
    "\n",
    "print(f'Valor máximo: {valor_maximo}')\n",
    "print(f'Valor mínimo: {valor_minimo}')\n",
    "print(f'Média aritmética: {media}')\n",
    "print(f'Mediana: {mediana}')\n",
    "print(f'Desvio padrão: {desvio_padrao}')"
   ]
  }
 ],
 "metadata": {
  "kernelspec": {
   "display_name": "Python 3",
   "language": "python",
   "name": "python3"
  },
  "language_info": {
   "codemirror_mode": {
    "name": "ipython",
    "version": 3
   },
   "file_extension": ".py",
   "mimetype": "text/x-python",
   "name": "python",
   "nbconvert_exporter": "python",
   "version": "3.9.7"
  }
 },
 "nbformat": 4,
 "nbformat_minor": 5
}
